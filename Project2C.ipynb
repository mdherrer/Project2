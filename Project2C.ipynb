{
 "cells": [
  {
   "cell_type": "markdown",
   "id": "c6fb770a-94ae-48ad-a054-87332c8a2fc9",
   "metadata": {},
   "source": [
    "# Martha Herrera's Project 2C – Draft"
   ]
  },
  {
   "cell_type": "markdown",
   "id": "6c4bd697-f64a-456b-9007-c48f022537bc",
   "metadata": {},
   "source": [
    "## Introduction\n",
    "#### Scientific Question:Is it possible to predict and further prevent the next influenza epidemic by looking at seasonal flu strains (that have a potential to become pandemic) genomic profile and features, and comparing them to those of previous pandemic flu strains?\n",
    "The 1918 Influenza Flu was one of the most fatal pandemics recorded to date. It is estimated that at least 50 to 100 million people died worldwide and about one third of the world's population at the time became infected. Since then, scientists have been waiting for the next big influenza pandemic. Although a series of influenza pandemics have arised since then, the death tolls never reached the peak that the 1918 flu had. Comparing the big pandemic strain as a model to any other current circulating strains to the genomic and molecular level can provide more information and hopefully better predictions to prevent another big tragedy.\n",
    "\n",
    "\n",
    "### Hypothesis: If big deadly Influenza epidemics have happened around every 10-40 years, and the last epidemic was 2009 H1N1 epidemic, then the 1918 influenza strain will have extremely similar or identical HA and NA glycoprotein features to the 2009 strain, which in turn are more genetically related to the current seasonal influenza strains.\n",
    "-Mention what NA and HA are, and how important they are to influenza infection\n",
    "\n",
    "-include where data was sourced from (NCBI, PDB)\n",
    "\n",
    "-mention how sequencing data was aligned with the use of https://www.ebi.ac.uk/Tools/msa/clustalo/"
   ]
  },
  {
   "cell_type": "markdown",
   "id": "7ccf3ecf-09cf-43c8-96c1-4844bd174e6a",
   "metadata": {},
   "source": [
    "## Loading in Packages"
   ]
  },
  {
   "cell_type": "markdown",
   "id": "d96763b8-7986-44f8-a127-a3b1d81decb7",
   "metadata": {},
   "source": [
    "#### Definitions\n",
    "include here definitions of packages and analysis methods"
   ]
  },
  {
   "cell_type": "markdown",
   "id": "b92fc320-a589-422c-a942-7b4500a18279",
   "metadata": {},
   "source": [
    "#### Modules and packages needed for multiple sequence alignment method"
   ]
  },
  {
   "cell_type": "code",
   "execution_count": 7,
   "id": "04b6dd3a-0e04-4e22-9565-e147a0a372e1",
   "metadata": {},
   "outputs": [
    {
     "name": "stdout",
     "output_type": "stream",
     "text": [
      "Collecting package metadata (current_repodata.json): done\n",
      "Solving environment: done\n",
      "\n",
      "# All requested packages already installed.\n",
      "\n",
      "\n",
      "Note: you may need to restart the kernel to use updated packages.\n"
     ]
    }
   ],
   "source": [
    "conda install -c conda-forge biotite"
   ]
  },
  {
   "cell_type": "code",
   "execution_count": 8,
   "id": "b1808c90-bd73-4c81-a262-c8122dbd1a5a",
   "metadata": {},
   "outputs": [
    {
     "name": "stdout",
     "output_type": "stream",
     "text": [
      "Collecting package metadata (current_repodata.json): done\n",
      "Solving environment: done\n",
      "\n",
      "## Package Plan ##\n",
      "\n",
      "  environment location: /Users/martizzle/opt/anaconda3\n",
      "\n",
      "  added / updated specs:\n",
      "    - mafft\n",
      "\n",
      "\n",
      "The following packages will be SUPERSEDED by a higher-priority channel:\n",
      "\n",
      "  certifi            conda-forge::certifi-2022.5.18.1-py39~ --> pkgs/main::certifi-2022.5.18.1-py39hecd8cb5_0\n",
      "  openssl            conda-forge::openssl-1.1.1o-hfe4f2af_0 --> pkgs/main::openssl-1.1.1o-hca72f7f_0\n",
      "\n",
      "\n",
      "Preparing transaction: done\n",
      "Verifying transaction: done\n",
      "Executing transaction: done\n",
      "\n",
      "Note: you may need to restart the kernel to use updated packages.\n"
     ]
    }
   ],
   "source": [
    "conda install -c bioconda mafft"
   ]
  },
  {
   "cell_type": "code",
   "execution_count": 9,
   "id": "384ac962-3e41-4535-8279-913c1a945c9f",
   "metadata": {},
   "outputs": [],
   "source": [
    "import sys\n",
    "from Bio import SeqIO\n",
    "from Bio.Align.Applications import MafftCommandline\n",
    "import tempfile"
   ]
  },
  {
   "cell_type": "markdown",
   "id": "736a2e34-ffcb-409e-be9b-d48dd166a1a7",
   "metadata": {},
   "source": [
    "#### Modules and packages needed for Homology Modeling & Structural Bioinformatics"
   ]
  },
  {
   "cell_type": "code",
   "execution_count": 26,
   "id": "5b028f49-fc27-4917-a158-bdb333d5065e",
   "metadata": {},
   "outputs": [
    {
     "name": "stdout",
     "output_type": "stream",
     "text": [
      "\n",
      "Note: you may need to restart the kernel to use updated packages.\n"
     ]
    }
   ],
   "source": [
    "conda config --add channels salilab"
   ]
  },
  {
   "cell_type": "code",
   "execution_count": 27,
   "id": "d80da0a0-d120-42fa-ad5d-bacf6c7d0bda",
   "metadata": {},
   "outputs": [
    {
     "name": "stdout",
     "output_type": "stream",
     "text": [
      "Collecting package metadata (current_repodata.json): done\n",
      "Solving environment: done\n",
      "\n",
      "## Package Plan ##\n",
      "\n",
      "  environment location: /Users/martizzle/opt/anaconda3\n",
      "\n",
      "  added / updated specs:\n",
      "    - modeller\n",
      "\n",
      "\n",
      "The following packages will be downloaded:\n",
      "\n",
      "    package                    |            build\n",
      "    ---------------------------|-----------------\n",
      "    hdf5-1106-1.10.6           |                0         2.8 MB  salilab\n",
      "    modeller-10.1              |           py39_1        28.9 MB  salilab\n",
      "    ------------------------------------------------------------\n",
      "                                           Total:        31.6 MB\n",
      "\n",
      "The following NEW packages will be INSTALLED:\n",
      "\n",
      "  hdf5-1106          salilab/osx-64::hdf5-1106-1.10.6-0\n",
      "  modeller           salilab/osx-64::modeller-10.1-py39_1\n",
      "\n",
      "The following packages will be SUPERSEDED by a higher-priority channel:\n",
      "\n",
      "  certifi            conda-forge::certifi-2022.5.18.1-py39~ --> pkgs/main::certifi-2022.5.18.1-py39hecd8cb5_0\n",
      "  openssl            conda-forge::openssl-1.1.1o-hfe4f2af_0 --> pkgs/main::openssl-1.1.1o-hca72f7f_0\n",
      "\n",
      "\n",
      "\n",
      "Downloading and Extracting Packages\n",
      "modeller-10.1        | 28.9 MB   | ##################################### | 100% \n",
      "hdf5-1106-1.10.6     | 2.8 MB    | ##################################### | 100% \n",
      "Preparing transaction: done\n",
      "Verifying transaction: done\n",
      "Executing transaction: | \n",
      "Edit /Users/martizzle/opt/anaconda3/lib/modeller-10.1/modlib/modeller/config.py\n",
      "and replace XXXX with your Modeller license key\n",
      "(or set the KEY_MODELLER environment variable before running 'conda install').\n",
      "\n",
      "\n",
      "done\n",
      "\n",
      "Note: you may need to restart the kernel to use updated packages.\n"
     ]
    }
   ],
   "source": [
    "conda install modeller"
   ]
  },
  {
   "cell_type": "markdown",
   "id": "f106062a-3997-4b87-8aa4-d33b112fcfc2",
   "metadata": {
    "tags": []
   },
   "source": [
    "#### Modules and packages needed for 3D Protein measurements"
   ]
  },
  {
   "cell_type": "code",
   "execution_count": 12,
   "id": "3aa6622b",
   "metadata": {},
   "outputs": [],
   "source": [
    "import nglview\n",
    "import numpy\n",
    "from Bio.PDB.PDBParser import PDBParser"
   ]
  },
  {
   "cell_type": "markdown",
   "id": "c60a9156-d289-4437-8a7b-3a42bbb5576b",
   "metadata": {},
   "source": [
    "#### Modules and packages needed for Phylogenetic clustering"
   ]
  },
  {
   "cell_type": "code",
   "execution_count": 12,
   "id": "51ffe54d-b2f0-443b-85ce-b16c46c0d031",
   "metadata": {},
   "outputs": [],
   "source": [
    "import Bio\n",
    "from Bio import Phylo, AlignIO\n",
    "from Bio.Phylo.TreeConstruction import DistanceCalculator, DistanceTreeConstructor"
   ]
  },
  {
   "cell_type": "markdown",
   "id": "16ab38fe-4df2-4ba1-9fb8-8c314d6ada71",
   "metadata": {},
   "source": [
    "## NCBI – Multiple Sequence Alignment"
   ]
  },
  {
   "cell_type": "markdown",
   "id": "2934e77c-fb2d-4d31-88f3-a872642bc839",
   "metadata": {},
   "source": [
    "** need to add comments indicating each step and don't forget to define your variables!\n",
    "\n",
    "** figure out how to save your output as a txt file or mention how you had to use a website to align them to obtain file"
   ]
  },
  {
   "cell_type": "markdown",
   "id": "cc810b71-4e7d-4eeb-9ea5-1ec16ccfc789",
   "metadata": {},
   "source": [
    "#### Hemagglutinin (HA) Sequence Alignments"
   ]
  },
  {
   "cell_type": "code",
   "execution_count": 13,
   "id": "de487811-258f-47e8-a2ad-d8e68e0e7ed5",
   "metadata": {},
   "outputs": [
    {
     "name": "stdout",
     "output_type": "stream",
     "text": [
      "\n",
      "\n",
      ">AF117241.1 Influenza A virus (A/South Carolina/1/18 (H1N1)) hemagglutinin gene, complete cds\n",
      "atggaggcaagactactggtcttgttatgtgca---------------------------\n",
      "---------------tttgcagctacaaatgcagacacaatatgtataggctaccatgcg\n",
      "aataactcaaccgacactgttgacacagtactcgaaaagaatgtgaccgtgacacactct\n",
      "gttaacctgctcgaagacagccacaacggaaaactatgtaaattaaaaggaatagcccca\n",
      "ttacaattggggaaatgtaatatcgccggatggctcttgggaaacccggaatgcgattta\n",
      "ctgctcacagcgagctcatggtcctatattgtagaaacatcgaactcagagaatggaaca\n",
      "tgttacccaggagatttcatcgactatgaagaactgagggagcaattgagctcagtgtca\n",
      "tcgtttgaaaaattcgaaatatttcccaagacaagctcgtggcccaatcatgaaacaacc\n",
      "aaaggtgtaacggcagcatgctcctatgcgggagcaagcag------tttttacagaaat\n",
      "ttgctgtggctgacaaagaagggaagctcatacccaaagcttagcaagtcctatgtgaac\n",
      "aataaagggaaagaagtccttgtactatggggtgttcatcatccgcctaccggtactgat\n",
      "caacagagtctctatcagaatgcagatgcttatgtctctgtagggtcatcaaaatataac\n",
      "aggagattcaccccggaaatagcagcgagacccaaagtaagagatcaagctgggaggatg\n",
      "aactattactggacattactagaacccggagacacaataacatttgaggcaactggaaat\n",
      "ctaatagcaccatggtatgctttcgcactgaatagaggttctggatccggtatcatcact\n",
      "tcagacgcaccagtgcatgattgtaacacgaagtgtcaaacaccccatggtgctataaac\n",
      "agcagtctccctttccagaatatacatccagtcacaataggagagtgcccaaaatacgtc\n",
      "aggagtaccaaattgaggatggctacaggactaagaaacattccatctattcaatccagg\n",
      "ggtctatttggagccattgccggttttattgaggggggatggactggaatgatagatgga\n",
      "tggtatggttatcatcatcagaatgaacagggatcaggctatgcagcggatcaaaaaagc\n",
      "acacaaaatgccattgacgggattacaaacaaggtgaattctgttatcgagaaaatgaac\n",
      "acccaattcacagcagtgggtaaagaattcaacaacttagaaagaaggatagaaaattta\n",
      "aataaaaaagtcgatgatggatttctggatatttggacatataatgcagaattgttagtt\n",
      "ctactggaaaatgaaagaaccctggatttccatgactcaaatgtaaggaatctgtatgag\n",
      "aaagtaaaaagccaattaaagaataatgccaaggaaatcggaaatggatgttttgagttc\n",
      "taccacaagtgtgacgatgcatgcatggaaagtgtaagaaatgggacttatgattaccca\n",
      "aaatattcagaagaatcaaagttgaacagagaagaaatagatggagtgaaattagaatca\n",
      "atgggggtctatcagattctggcgatctactcaactgtcgccagttcactagtgctgtta\n",
      "gtctccctgggggcaatcagcttctggatgtgttctaatgggtctttgcagtgcagaata\n",
      "tgcatttga-----------------------------------------\n",
      ">L11133.1 Influenza A virus (A/Korea/426/68 (H2N2)) hemagglutinin (HA) gene, complete cds\n",
      "-----agcaaaagcaggggttataccatagacaaccaaaagcataacaatggccatcatt\n",
      "tatctcatactcctgttcacagcagtgaggggggaccagatatgcattggataccatgcc\n",
      "aataattccacagaaaaggtcgacacaattctagagcggaatgtcactgtgactcatgcc\n",
      "aaggacatccttgagaagacccataacggaaagctatgcaaactaaacggaatccctcca\n",
      "cttgaactaggggactgtagcattgccggatggctccttggaaatccagaatgtgatagg\n",
      "cttctaagtgtgccagaatggtcctatataatggagaaagaaaacccgagatacagtttg\n",
      "tgttacccaggcagcttcaatgactatgaagaattgaaacatctcctcagcagcgtgaaa\n",
      "cattttgagaaagttaagattttgcccaaagatag---atggacacagcatacaacaact\n",
      "ggaggt---------tcatgggcctgcgcggtgtcaggtaaaccatcattcttcaggaac\n",
      "atggtctggctgacacgtaaaggatcaaattatccggttgccaaaggatcgtacaacaat\n",
      "acaagcggagaacaaatgctaataatttggggagtgcaccatcctaatgatgaggcagaa\n",
      "caaagagcattgtaccagaatgtgggaacctatgtttccgtagccacatcaacattgtac\n",
      "aaaaggtcaatcccagaaatagcagcaaggcctaaagtgaatggactaggacgtagaatg\n",
      "gaattctcttggaccctcttggatatgtgggacaccataaattttgagagcactggtaat\n",
      "ctagttgcaccagagtatgggttcaaaatatcgaaaagaggtagttcagggatcatgaag\n",
      "acagaaggaacacttgagaactgtgaaaccaaatgccaaactcctttgggagcaataaat\n",
      "acaacactaccttttcacaatgtccacccactgacaataggtgaatgccccaaatatgta\n",
      "aaatcggagaaattggtcttagcaacaggactaaggaatgttccccagattgaatcaaga\n",
      "ggattgtttggggcaatagctggttttatagaaggaggatggcaaggaatggttgatggt\n",
      "tggtatggataccatcacagcaatgaccagggatcagggtatgcagcagacaaagaatcc\n",
      "actcaaaaggcatttaatggaatcaccaacaaggtaaattctgtgattgaaaagatgaac\n",
      "acccaatttgaagctgttgggaaagaattcagtaacttagagaaaagactggagaacttg\n",
      "aacaaaaagatggaagacgggtttctagatgtgtggacatacaatgcagagcttctagtt\n",
      "ctgatggaaaatgagaggacacttgactttcatgattctaatgtcaagaatctgtatgat\n",
      "aaagtcagaatgcagctgagagacaacgtcaaagaactaggaaatggatgttttgaattt\n",
      "tatcacaaatgtgacaatgaatgcatggatagtgtgaaaaacgggacatatgattatccc\n",
      "aagtatgaagaagaatctaaactaaatagaaatgaaatcaaaggggtaaaattgagcagc\n",
      "atgggggtttatcaaatccttgccatttatgctacagtagcaggttctctgtcactggca\n",
      "atcatgatggctgggatctctttctggatgtgctccaacgggtctctgcagtgcagaatc\n",
      "tgcatatgattgtaagtcattttataattaaaaacacccttgtttcctga\n",
      "\n",
      "\n",
      "\n",
      ">AF117241.1 Influenza A virus (A/South Carolina/1/18 (H1N1)) hemagglutinin gene, complete cds\n",
      "atggaggcaagactactggtcttg----ttatgtgcatttgcagctaca-----------\n",
      "---------------------------------aatgcagacacaatatgtataggctac\n",
      "catgcgaataactcaaccgacactgttgacacagtactcgaaaagaatgtgacc---gtg\n",
      "acacactctgttaacctgctcgaagacagccacaacggaaaactatgtaaattaaaagga\n",
      "atagccccattacaattggggaaatgtaatatcgccggatgg-----ctcttgggaaacc\n",
      "cggaatgcgatttactgctcacagcgagctcatggtcctatattgtagaaacatcgaact\n",
      "cagagaa-----tggaacatgttacccaggagatttcatcgactatgaagaactgaggga\n",
      "gcaattgagctcagtgtcatcgtttgaaaaattcgaaatatttcccaagacaagctcgtg\n",
      "gcccaatcatgaaacaaccaaaggtgtaacggcagcatgctcctatgcgggagc----aa\n",
      "gcagtttttacagaaatttgctgtggctgacaaagaagggaagctcatacccaaagctta\n",
      "gcaagtcctatgtgaacaataaagggaaagaagtccttgtactatggggtgttcatcatc\n",
      "cgcctaccggtactgatcaa--------------------------------cagagtct\n",
      "ctatcagaatgcagatgcttatgtctctgtagggtcatcaaaatataacaggagattcac\n",
      "cccggaaatagcagcgagacccaaagtaagagatcaagctgggaggatgaactattactg\n",
      "gacattactagaacccggagacacaataacatttgaggcaactggaaatctaatagcacc\n",
      "atggtatgcttt-------cgcactgaatagaggttctggatccggtatcatcacttcag\n",
      "acgcaccagtgcatgattgtaacacgaagtgtcaaacaccccatggtgctataaacagca\n",
      "gtctccctttccagaatatacatccagtcacaataggagagtgcccaaaatacgtcagga\n",
      "gtaccaaattgaggatggctacaggactaagaaacattccatctattcaatccaggggtc\n",
      "tatttggagccattgccggttttattgaggggggatggactggaatgatagatggatggt\n",
      "atggttatcatcatcagaatgaacagggatcaggctatgcagcggatcaaaaaagcacac\n",
      "aaaatgccattgacgggattacaaacaaggtgaattctgttatcgagaaaatgaacaccc\n",
      "aattcacagcagtgggtaaagaattcaacaacttagaaagaaggatagaaaatttaaata\n",
      "aaaaagtcgatgatggatttctggatatttggacatataatgcagaattgttagttctac\n",
      "tggaaaatgaaagaaccctggatttccatgactcaaatgtaaggaatctgtatgagaaag\n",
      "taaaaagccaattaaagaataatgccaaggaaatcggaaatggatgttttgagttctacc\n",
      "acaagtgtgacgatgcatgcatggaaagtgtaagaaatgggacttatgattacccaaaat\n",
      "attcagaagaatcaaagttgaacagagaagaaatagatggagtgaaattagaatcaatgg\n",
      "gggtctatcagattctggcgatctactcaactgtcgccagttcactagtgctgttagtct\n",
      "ccctgggggcaatcagcttctggatgtgttctaatgggtctttgcagtgcagaatatgca\n",
      "tttga--------------------\n",
      ">CY147438.1 Influenza A virus (A/Hong Kong/JY2/1968(H3N2)) hemagglutinin (HA) gene, complete cds\n",
      "-------taattctattaatcatgaagaccatcattgctttgagctacattttctgtctg\n",
      "gctctcggccaagaccttccaggaaatgacaacagcacagcaacgctgtgcctgggacat\n",
      "catgcg---gtgccaaacggaacactagtgaaaacaatcacagatgatcagattgaagtg\n",
      "actaatgctactgagctagttcagagctcctcaacggggaaaatatgcaa--------ca\n",
      "atcctcatcgaatccttgatggaatagactgcacactgatagatgctctattgggggacc\n",
      "ctcattgtga--tgtttttcaaaatgagacatgggaccttt---------tcgttgaacg\n",
      "cagcaaagctttcagcaactgttacccttatgatgtgccagattatgcctcccttaggtc\n",
      "ac---------tagttgcctcgtcaggcactctggagtttatcactgagggtttcacttg\n",
      "gactg-----gggtcactcagaatgggggaagca--atgcttgcaaaaggggacctggta\n",
      "gcggttttttcagtagactgaactggttgaccaaatcaggaagcacatatccagtgctga\n",
      "acgtgactatgccaaacaatgacaattttgacaaactatacatttgggggattcaccacc\n",
      "cgagcacgaaccaagaacaaaccagcctgtatgttcaagcatcagggagagtcacagtct\n",
      "ctaccagga---------------------gaagccagcaaactata-----------at\n",
      "cccgaatatcgggtccagaccctgggtaaggggtctgtctagtagaataagcatctattg\n",
      "gacaatagttaagccgggagacgtactggtaattaatagtaatgggaacctaatcgctcc\n",
      "tcggggttatttcaaaatgcgcactgggaaaagctc----------aataatgaggtcag\n",
      "atgcacctattgatacctgtatttctgaatgcatcactccaaatggaagcattcccaatg\n",
      "acaagccctttcaaaacgtaaacaagatcacatatggagcatgccccaagtatgttaagc\n",
      "aaaacaccctgaagttggcaacagggatgcggaatgtaccagagaaacaaactagaggcc\n",
      "tattcggcgcaatagcaggtttcatagaaaatggttgggagggaatgatagacggttggt\n",
      "acggtttcaggcatcaaaattctgagggcacaggacaagcagcagatcttaaaagcactc\n",
      "aagcagccatcgaccaaatcaatgggaaattgaacagggtaatcgagaagacgaacgaga\n",
      "aattccatcaaatcgaaaaggaattctcagaagtagaagggagaattcaggacctcgaga\n",
      "aatacgttgaagacactaaaatagatctctggtcttacaatgcggagcttcttgtcgctc\n",
      "tggagaatcaacatacaattgacctgactgactcggaaatgaacaagctgtttgaaaaaa\n",
      "caaggaggcaactgagggaaaatgctgaagacatgggcaatggttgcttcaaaatatacc\n",
      "acaaatgtgacaacgcttgcatagagtcaatcagaaatgggacttatgaccatgatgtat\n",
      "acagagacgaagcattaaacaaccggtttcagatcaaaggtgttgaactgaagtctggat\n",
      "acaaagactggatcctgtggatttcctttgccatatcatgctttttgctttgtgttgttt\n",
      "tgctggggttcatca---tgtgggcctgccagagaggcaacattaggtgcaacatttgca\n",
      "tttgagtgtattagtaattaaaaac\n",
      "\n",
      "\n",
      "\n",
      ">AF117241.1 Influenza A virus (A/South Carolina/1/18 (H1N1)) hemagglutinin gene, complete cds\n",
      "--------------------atggaggcaagactactggtcttgttatgtgcatttgcag\n",
      "ctacaaatgcagacacaatatgtataggctaccatgcgaataactcaaccgacactgttg\n",
      "acacagtactcgaaaagaatgtgaccgtgacacactctgttaacctgctcgaagacagcc\n",
      "acaacggaaaactatgtaaattaaaaggaatagccccattacaattggggaaatgtaata\n",
      "tcgccggatggctcttgggaaacccggaatgcgatttactgctcacagcgagctcatggt\n",
      "cctatattgtagaaacatcgaactcagagaatggaacatgttacccaggagatttcatcg\n",
      "actatgaagaactgagggagcaattgagctcagtgtcatcgtttgaaaaattcgaaatat\n",
      "ttcccaagacaagctcgtggcccaatcatgaaacaaccaaaggtgtaacggcagcatgct\n",
      "cctatgcgggagcaagcagtttttacagaaatttgctgtggctgacaaagaagggaagct\n",
      "catacccaaagcttagcaagtcctatgtgaacaataaagggaaagaagtccttgtactat\n",
      "ggggtgttcatcatccgcctaccggtactgatcaacagagtctctatcagaatgcagatg\n",
      "cttatgtctctgtagggtcatcaaaatataacaggagattcaccccggaaatagcagcga\n",
      "gacccaaagtaagagatcaagctgggaggatgaactattactggacattactagaacccg\n",
      "gagacacaataacatttgaggcaactggaaatctaatagcaccatggtatgctttcgcac\n",
      "tgaatagaggttctggatccggtatcatcacttcagacgcaccagtgcatgattgtaaca\n",
      "cgaagtgtcaaacaccccatggtgctataaacagcagtctccctttccagaatatacatc\n",
      "cagtcacaataggagagtgcccaaaatacgtcaggagtaccaaattgaggatggctacag\n",
      "gactaagaaacattccatctattcaatccaggggtctatttggagccattgccggtttta\n",
      "ttgaggggggatggactggaatgatagatggatggtatggttatcatcatcagaatgaac\n",
      "agggatcaggctatgcagcggatcaaaaaagcacacaaaatgccattgacgggattacaa\n",
      "acaaggtgaattctgttatcgagaaaatgaacacccaattcacagcagtgggtaaagaat\n",
      "tcaacaacttagaaagaaggatagaaaatttaaataaaaaagtcgatgatggatttctgg\n",
      "atatttggacatataatgcagaattgttagttctactggaaaatgaaagaaccctggatt\n",
      "tccatgactcaaatgtaaggaatctgtatgagaaagtaaaaagccaattaaagaataatg\n",
      "ccaaggaaatcggaaatggatgttttgagttctaccacaagtgtgacgatgcatgcatgg\n",
      "aaagtgtaagaaatgggacttatgattacccaaaatattcagaagaatcaaagttgaaca\n",
      "gagaagaaatagatggagtgaaattagaatcaatgggggtctatcagattctggcgatct\n",
      "actcaactgtcgccagttcactagtgctgttagtctccctgggggcaatcagcttctgga\n",
      "tgtgttctaatgggtctttgcagtgcagaatatgcatttga-------------------\n",
      "------------\n",
      ">GU433033.1 Influenza A virus (A/Novosibirsk/02/2009(H1N1)) segment 4 hemagglutinin (HA) gene, complete cds\n",
      "ggaaaacaaaagcaacaaaaatgaaggcaatactagtagttctgctatatacatttgcaa\n",
      "ccgcaaatgcagacacattatgtataggttatcatgcgaacaattcaacagacactgtag\n",
      "acacagtactagaaaagaatgtaacagtaacacactctgttaaccttctagaagacaagc\n",
      "ataacgggaaactatgcaaactaagaggggtagccccattgcatttgggtaaatgtaaca\n",
      "ttgctggctggatcctgggaaatccagagtgtgaatcactctccacagcaagctcatggt\n",
      "cctacattgtggaaacatctagttcagacaatggaacgtgttacccaggagatttcatcg\n",
      "attatgaggagctaagagagcaattgagctcagtgtcatcatttgaaaggtttgagatat\n",
      "tccccaagacaagttcatggcccaatcatgactcgaacaaaggtgtaacggcagcatgtc\n",
      "ctcatgctggagcaaaaagcttctacaaaaatttaatatggctagttaaaaaaggaaatt\n",
      "catacccaaagctcagcaaatcctacattaatgataaagggaaagaagtcctcgtgctat\n",
      "ggggcattcaccatccatctactagtgctgaccaacaaagtctctatcagaatgcagatg\n",
      "catatgtttttgtggggacatcaagatacagcaagaagttcaagccggaaatagcaataa\n",
      "gacccaaagtgagggatcaagaagggagaatgaactattactggacactagtagagccgg\n",
      "gagacaaaataacattcgaagcaactggaaatctagtggtaccgagatatgcattcgcaa\n",
      "tggaaagaaatgctggatctggtattatcatttcagatacaccagtccacgattgcaata\n",
      "caacttgtcagacacccaagggtgctataaacaccagcctcccatttcagaatatacatc\n",
      "cgatcacaattggaaaatgtccaaaatatgtaaaaagcacaaaattgagactggccacag\n",
      "gattgaggaatgtcccgtctattcaatctagaggcctatttggggccattgccggtttca\n",
      "ttgaaggggggtggacagggatggtagatggatggtacggttatcaccatcaaaatgagc\n",
      "aggggtcaggatatgcagccgacctgaagagcacacagaatgccattgacgagattacta\n",
      "acaaagtaaattctgttattgaaaagatgaatacacagttcacagcagtaggtaaagagt\n",
      "tcaaccacctggaaaaaagaatagagaatttaaataaaaaagttgatgatggtttcctgg\n",
      "acatttggacttacaatgccgaactgttggttctattggaaaatgaaagaactttggact\n",
      "accacgattcaaatgtgaagaacttatatgaaaaggtaagaagccagttaaaaaacaatg\n",
      "ccaaggaaattggaaacggctgctttgaattttaccacaaatgcgataacacgtgcatgg\n",
      "aaagtgtcaaaaatgggacttatgactacccaaaatactcagaggaagcaaaattaaaca\n",
      "gagaagaaatagatggggtaaagctggaatcaacaaggatttaccagattttggcgatct\n",
      "attcaactgtcgccagttcattggtactggtagtctccctgggggcaatcagtttctgga\n",
      "tgtgctctaatgggtctctacagtgtagaatatgtatttaacattaggatttcagaagca\n",
      "tgagaaaaacac\n",
      "\n",
      "\n",
      "\n",
      ">AF117241.1 Influenza A virus (A/South Carolina/1/18 (H1N1)) hemagglutinin gene, complete cds\n",
      "-----------------atggag----------------gcaagactactggtcttgtt-\n",
      "-------atgtgcatttgcagctacaaat---gcagacacaatatgtataggctaccatg\n",
      "cgaataactcaaccgacactgttgacacagtactcgaaaagaatgtgacc---gtgacac\n",
      "actctgttaacctgctcgaaga--cagccacaacggaaaactatgtaaattaaaaggaat\n",
      "agccccatta------caattggggaaatgtaatatcgccggatg-gctcttgggaaacc\n",
      "cggaatgcgatttactgctcacagcgagctcatggtcctatattgtagaaacatcgaact\n",
      "cagagaatggaacatgttacccaggagatttcatcgactatgaagaactgagggagcaat\n",
      "tgagctcagtgtcatcgtttgaaaaattcgaaatatt----tcccaagacaagctcgtgg\n",
      "cccaatcatgaaacaaccaaaggtgtaacggcagcatgctcctatgcgggagca--agca\n",
      "gtttttacagaaatttgctgtggctgacaaagaagggaagctcatacccaaagcttagca\n",
      "agtcctatgtgaacaataaagggaaagaagtccttgtactatggggtgttcatcatccgc\n",
      "ctaccggtactgatcaa--------------------------------cagagtctcta\n",
      "tcagaatgcagatgcttatgtctctgtagggtcatcaaaatataacaggagattcacccc\n",
      "ggaaatagcagcgagacccaaagtaagagatcaagctgggaggatgaactattactggac\n",
      "attactagaacccggagacacaataacatttgaggcaactggaaatctaatagcaccatg\n",
      "gtatgctttcgcactgaatagaggttctggatccggtatcatcacttcagacgcaccagt\n",
      "gcatgattgtaacacgaagtgtcaaacaccccatggtgctataaacagcagtctcccttt\n",
      "ccagaatatacatccagtcacaataggagagtgcccaaaatacgtcaggagtaccaaatt\n",
      "gaggatggctacaggactaagaaacattccatctattcaatccaggggtctatttggagc\n",
      "cattgccggttttattgaggggggatggactggaatgatagatggatggtatggttatca\n",
      "tcatcagaatgaacagggatcaggctatgcagcggatcaaaaaagcacacaaaatgccat\n",
      "tgacgggattacaaacaaggtgaattctgttatcgagaaaatgaacacccaattcacagc\n",
      "agtgggtaaagaattcaacaacttagaaagaaggatagaaaatttaaataaaaaagtcga\n",
      "tgatggatttctggatatttggacatataatgcagaattgttagttctactggaaaatga\n",
      "aagaaccctggatttccatgactcaaatgtaaggaatctgtatgagaaagtaaaaagcca\n",
      "attaaagaataatgccaaggaaatcggaaatggatgttttgagttctaccacaagtgtga\n",
      "cgatgcatgcatggaaagtgtaagaaatgggacttatgattacccaaaatattcagaaga\n",
      "atcaaagttgaacagagaagaaatagatggagtgaaattagaatcaatgggggtctatca\n",
      "gattctggcgatctactcaactgtcgccagttcactagtgctgttagtctccctgggggc\n",
      "aatcagcttctggatgtgttctaatgggtctttgcagtgcagaatatgcatttga-----\n",
      "--------------\n",
      ">ON371590.1 Influenza A virus (A/New Jersey/04/2022(H3N2)) segment 4 hemagglutinin (HA) gene, complete cds\n",
      "ggataattctattaaccatgaagactatcattgctttgagcaacattctatgtcttgttt\n",
      "tcgctcaaaaaatacctggaaatgacaatagcacggcaacgctgtgccttgggcatcatg\n",
      "ca---gtaccaaacggaacgatagtgaaaacaatcacaaatgaccgaattgaagttacta\n",
      "atgctactgagttggttcagaattcatcaataggtgaaatatgcggcagt----------\n",
      "--cctcatcagatccttgatggagggaactgcacactaatagatgctctattgggggacc\n",
      "ctcagtgtga--cggctttcaaaataag-gaatgggacctttttgttgaaaga---agca\n",
      "gagccaacagcaactgttacccttatgatgtgccgggttatgcctcccttag--------\n",
      "----------gtcactagttgcctcatccggcacactggagtttaaagatgaaagcttca\n",
      "attggactggagtcaaacaaaacggaacaagttctgcgtgcataaggggatctagtagta\n",
      "gtttttttagtagattaaattggttgaccagcataaacaacatatatccagcacagaacg\n",
      "tgactatgccaaacaaggaacaatttgacaaattgtacatttggggggttcaccacccgg\n",
      "atacggacaagaaccaaatctccctgtttgctcaatcatcaggaagaatcacagtatcta\n",
      "ccaaaa---------------------gaagccaacaagctgta-----------atccc\n",
      "aaatatcggatctagacccagaataagggatatccctagcagaataagcatctattggac\n",
      "aatagtaaaaccgggagacatacttttgattaacagcacagggaatctaattgctcctag\n",
      "gggttacttcaaaatacgaaatgggaaaagctc---aataatgagatcagatgcacccat\n",
      "tggcagatgtaagtctgaatgcatcactccaaatggaagcattcccaatgacaaaccgtt\n",
      "ccaaaatgtaaacaggatcacatacggggcctgtcccagatatgttaagcaaagcaccct\n",
      "gaaattggcaacaggaatgcgaaatgtaccagagaaacaaaccagaggcatatttggcgc\n",
      "aatagcgggtttcatagaaaatggatgggagggaatggtggatggttggtacggtttcag\n",
      "gcatcaaaattctgagggaagaggacaagcagcagatctcaaaagcactcaagcagcaat\n",
      "cgatcaaatcaatgggaagctgaatcgattgatcggaaaaaccaacgagaaattccatca\n",
      "gattgaaaaagaattctcagaagtagaaggaagagttcaagaccttgagaaatatgttga\n",
      "ggacactaaaatagatctctggtcatacaacgctgagcttcttgttgccctggagaacca\n",
      "acatacgattgacctaactgactcagaaatgaacaaactgtttgaaaaaacaaagaagca\n",
      "actgagggaaaatgctgaggatatgggaaatggttgtttcaaaatataccacaaatgtga\n",
      "caatgcctgcataggatcaataagaaatgaaacttatgaccacaatgtgtacagggatga\n",
      "agcattgaacaaccggttccagatcaagggagttgagctgaaatcagggtacaaagattg\n",
      "gatcctatggatttcctttgccatgtcatgttttttgctttgtattgctttgttggggtt\n",
      "catca---tgtgggcctgccaaaagggcaacattagatgcaacatttgcatttgagtgca\n",
      "ttaattaaaaacac\n",
      "\n",
      "\n",
      "\n"
     ]
    }
   ],
   "source": [
    "#multiple sequence alignment for HA gene sequence\n",
    "HA = \"HA\"\n",
    "reference = 0\n",
    "count = 0\n",
    "with tempfile.NamedTemporaryFile() as temp:\n",
    "    for record in SeqIO.parse(HA, \"fasta\"):\n",
    "        if count == 0:\n",
    "            reference = record\n",
    "        else:\n",
    "            SeqIO.write([reference, record], temp.name, \"fasta\")\n",
    "            mafft_cline = MafftCommandline(input=temp.name)\n",
    "            stdout,stderr=mafft_cline()\n",
    "            print(stdout)\n",
    "        count += 1\n",
    "        print('\\n')"
   ]
  },
  {
   "cell_type": "markdown",
   "id": "001b0154-b305-467b-a64a-208c2787a892",
   "metadata": {},
   "source": [
    "#### Neuraminidase (NA) Sequence Alignments"
   ]
  },
  {
   "cell_type": "code",
   "execution_count": 14,
   "id": "b9c60599-d227-4b3f-81e3-c5baa5650b40",
   "metadata": {},
   "outputs": [
    {
     "name": "stdout",
     "output_type": "stream",
     "text": [
      "\n",
      "\n",
      ">U94893.1 Influenza A virus (A/South Carolina/1/18 (H1N1)) neuraminidase gene, partial cds\n",
      "------------------------------------------------------------\n",
      "------------------------------------------------------------\n",
      "------------------------------------------------------------\n",
      "------------------------------------------------------------\n",
      "------------------------------------------------------------\n",
      "------------------------------------------------------------\n",
      "----------------------------gtcaatctgta---------------------\n",
      "------------------------------------------------------------\n",
      "------------------------------------------------------------\n",
      "------------------------------------------------------------\n",
      "------------------------------------------------------------\n",
      "---------------tggtagtcggaata-------------------------------\n",
      "------------------------------------------------------------\n",
      "------------attagcctaatatt----------------------------------\n",
      "------------------------------------------------------------\n",
      "------------------------------------------------------------\n",
      "------------------------------------------------------------\n",
      "------------------------------------------------------------\n",
      "------------------------------------------------------------\n",
      "------------------------------------------------------------\n",
      "------------------------------------------------------------\n",
      "------------------------------------------------------------\n",
      "------------------------------------------------------------\n",
      "------------------------------\n",
      ">AY209932.1 Influenza A virus (A/Korea/426/68(H2N2)) neuraminidase (NA) gene, complete cds\n",
      "atgaatccaaatcaaaagataataacaattggctctgtctctctcaccattgcaacagta\n",
      "tgcttcctcatgcagattgccatcctggtaactactgtgacattgcattttaagcaacat\n",
      "gagtgcgactcccccgcgagcaaccaagtaatgccgtgtgaaccaataataatagaaagg\n",
      "aacataacagagatagtgtatttgaataacaccaccatagagaaagagatctgccccgaa\n",
      "gtagtggaatacagaaattggtcaaagccgcaatgtcaaattacaggatttgcacctttt\n",
      "tctaaggacaattcaatccggctttctgctggtggggacatttgggtgacgagagaacct\n",
      "tatgtgtcatgcgatcctggcaagtgttatcaatttgcactcgggcaggggaccacacta\n",
      "gacaacaaacattcaaatgacacaatacatgatagaatccctcatcgaaccctattaatg\n",
      "aatgagttgggtgttccatttcatttaggaaccaggcaagtgtgtgtagcatggtccagc\n",
      "tcaagttgtcacgatggaaaagcatggttgcatgtttgtgtcactggggatgataaaaat\n",
      "gcaactgctagcttcatttatgacgggaggcttatggacagtattggttcatggtctcaa\n",
      "aatatcctcaggacccaggagtcggaatgcgtttgtatcaatgggacttgcacagtagta\n",
      "atgactgatggaagtgcttcaggaagagccgatactagaatactattcattgaagagggg\n",
      "aaaattgtccatattagcccattgtcaggaagtgctcagcatgtagaggagtgttcctgt\n",
      "tatcctcgatatcctgacgtcagatgtatctgcagagacaactggaaaggctctaatagg\n",
      "cccgtcatagacataaatatggaagattatagcattgattccagttatgtgtgctcaggg\n",
      "cttgttggcgacacacccagaaacgacgacagatctagcaatagtaattgcaggaatcct\n",
      "aacaatgagagagggaatccaggagtgaaaggctgggcctttgacaatggagatgacgtg\n",
      "tggatgggaagaacgatcagcaaggatttacgctcaggttatgaaactttcaaagtcatt\n",
      "ggtggttggtccacacctaattccaaatcgcagatcaatagacaggtcatagttgacagc\n",
      "aataattggtcaggttactctggtattttctctgttgagggcaaaagatgcatcaatagg\n",
      "tgcttttatgtggagttgataaggggaaggcaacaggagactagagtatggtggacctca\n",
      "aacagtattgttgtgttttgtggcacttcaggtacttatggaacaggctcatggcctgat\n",
      "ggggcgaacatcaatttcatgcctatataa\n",
      "\n",
      "\n",
      "\n",
      ">U94893.1 Influenza A virus (A/South Carolina/1/18 (H1N1)) neuraminidase gene, partial cds\n",
      "------------------------------------------------------------\n",
      "------------------------------------------------------------\n",
      "------------------------------------------------------------\n",
      "------------------------------------------------------------\n",
      "------------------------------------------------------------\n",
      "------------------------------------------------------------\n",
      "-----------------------------------gtcaatctgta--------------\n",
      "------------------------------------------------------------\n",
      "------------------------------------------------------------\n",
      "------------------------------------------------------------\n",
      "------------------------------------------------------------\n",
      "----------------------tggtagtcggaata------------------------\n",
      "------------------------------------------------------------\n",
      "-------------------attagcctaatatt---------------------------\n",
      "------------------------------------------------------------\n",
      "------------------------------------------------------------\n",
      "------------------------------------------------------------\n",
      "------------------------------------------------------------\n",
      "------------------------------------------------------------\n",
      "------------------------------------------------------------\n",
      "------------------------------------------------------------\n",
      "------------------------------------------------------------\n",
      "------------------------------------------------------------\n",
      "------------------------------------------------------------\n",
      "--\n",
      ">CY147440.1 Influenza A virus (A/Hong Kong/JY2/1968(H3N2)) neuraminidase (NA) gene, complete cds\n",
      "agtgaaaatgaatccaaatcaaaagataataacaattggctctgtctctctcaccattgc\n",
      "aacagtatgcttcctcatgcagattgccatcctggtaactactgtaacattgcattttaa\n",
      "gcaatatgagtgcgactcccccgcgagcaaccaagtaatgccgtgtgaaccaataataat\n",
      "agaaaggaacataacagagatagtgtatttgaataacaccaccatagagaaagagatatg\n",
      "ccccaaagtagtggaatacagaaattggtcaaagccgcaatgtcaaattacaggatttgc\n",
      "acctttttctaaggacaattcaatccggctttctgctggtggggacatttgggtgacgag\n",
      "agaaccttatgtgtcatgcgatcatggcaagtgttatcaatttgcactcgggcaggggac\n",
      "cacactagacaacaaacattcaaatgacacaatacatgatagaatccctcatcgaaccct\n",
      "attaatgaatgagttgggtgttccatttcatttaggaaccaggcaagtgtgtatagcatg\n",
      "gtccagctcaagttgtcacgatggaaaagcatggctgcatgtttgtatcactggggatga\n",
      "caaaaatgcaactgctagcttcatttatgacgggaggcttgtggacagtattggttcatg\n",
      "gtctcaaaatatcctcagaacccaggagtcggaatgcgtttgtatcaatgggacttgcac\n",
      "agtagtaatgactgatggaagtgcttcaggaagagccgatactagaatactattcattga\n",
      "agaggggaaaattgtccatattagcccattgtcaggaagtgctcagcatgtagaagagtg\n",
      "ttcctgttatcctagatatcctggcgtcagatgtatctgcagagacaactggaaaggctc\n",
      "taataggcccgtcgtagacataaatatggaagattatagcattgattccagttatgtgtg\n",
      "ctcagggcttgttggcgacacacctagaaacgacgacagatctagcaatagcaattgcag\n",
      "gaatcctaataatgagagagggaatcaaggagtgaaaggctgggcctttgacaatggaga\n",
      "tgacgtgtggatgggaagaacgatcagcaaggatttacgctcaggttatgaaactttcaa\n",
      "agtcattggtggttggtccacacctaattccaaatcgcagatcaatagacaagtcatagt\n",
      "tgacagcgataatcggtcaggttactctggtattttctctgttgagggcaaaagctgcat\n",
      "caataggtgcttttatgtggagttgataaggggaaggaaacaggagactagagtgtggtg\n",
      "gacctcaaacagtattgttgtgttttgtggcacttcaggtacctatggaacaggctcatg\n",
      "gcctgatggggcgaacatcaatttcatgcctatataagctttcgcaattttagaaaaaaa\n",
      "ct\n",
      "\n",
      "\n",
      "\n",
      ">U94893.1 Influenza A virus (A/South Carolina/1/18 (H1N1)) neuraminidase gene, partial cds\n",
      "----------------------------------------gtcaatctgtatggtagtcg\n",
      "gaataattagcctaatatt-----------------------------------------\n",
      "------------------------------------------------------------\n",
      "------------------------------------------------------------\n",
      "------------------------------------------------------------\n",
      "------------------------------------------------------------\n",
      "------------------------------------------------------------\n",
      "------------------------------------------------------------\n",
      "------------------------------------------------------------\n",
      "------------------------------------------------------------\n",
      "------------------------------------------------------------\n",
      "------------------------------------------------------------\n",
      "------------------------------------------------------------\n",
      "------------------------------------------------------------\n",
      "------------------------------------------------------------\n",
      "------------------------------------------------------------\n",
      "------------------------------------------------------------\n",
      "------------------------------------------------------------\n",
      "------------------------------------------------------------\n",
      "------------------------------------------------------------\n",
      "------------------------------------------------------------\n",
      "------------------------------------------------------------\n",
      "------------------------------------------------------------\n",
      "------------------------------------------------------\n",
      ">GU433035.1 Influenza A virus (A/Novosibirsk/02/2009(H1N1)) segment 6 neuraminidase (NA) gene, complete cds\n",
      "agtttaaaatgaatccaaaccaaaagataataaccattggttcggtctgtatgacaattg\n",
      "gaatggctaacttaatattacaaattggaaacataatctcaatatggattagccactcaa\n",
      "ttcaacttgggaatcaaaatcagattgaaacatgcaatcaaagcgtcattacttatgaaa\n",
      "acaacacttgggtaaatcagacatatgttaacatcagcaacaccaactttgctgctggac\n",
      "agtcagtggtttccgtgaaattagcgggcaattcctctctctgccctgttagtggatggg\n",
      "ctatatacagtaaagacaacagtataagaatcggttccaagggggatgtgtttgtcataa\n",
      "gggaaccattcatatcatgctcccccttggaatgcagaaccttcttcttgactcaagggg\n",
      "ccttgctaaatgacaaacattccaatggaaccattaaagacaggagcccatatcgaaccc\n",
      "taatgagctgtcctattggtgaagttccctctccatacaactcaagatttgagtcagtcg\n",
      "cttggtcagcaagtgcttgtcatgatggcatcaattggctaacaattggaatttctggcc\n",
      "cagacaatggggcagtggctgtgttaaagtacaacggcataataacagacactatcaaga\n",
      "gttggagaaacaatatattgagaacacaagagtctgaatgtgcatgtgtaaatggttctt\n",
      "gctttactgtaatgaccgatggaccaagtgatggacaggcctcatacaagatcttcagaa\n",
      "tagaaaagggaaagatagtcaaatcagtcgaaatgaatgcccctaattatcactatgagg\n",
      "aatgctcctgttatcctgattctagtgaaatcacatgtgtgtgcagggataactggcatg\n",
      "gctcgaatcgaccgtgggtgtctttcaaccagaatctggaatatcagataggatacatat\n",
      "gcagtgggattttcggagacaatccacgccctaatgataagacaggcagttgtggtccag\n",
      "tatcgtctaatggagcaaatggagtaaaaggattttcattcaaatacggcaatggtgttt\n",
      "ggatagggagaactaaaagcattagttcaagaaacggttttgagatgatttgggatccga\n",
      "acggatggactgggacagacaataacttctcaataaagcaagatatcgtaggaataaatg\n",
      "agtggtcaggatatagcgggagttttgtccagcatccagaactaacagggctggattgta\n",
      "taagaccttgcttctgggttgaactaatcagagggcgacccaaagagaacacaatctgga\n",
      "ctagcgggagcagcatatccttttgtggtgtaaacagtgacactgtgggttggtcttggc\n",
      "cagacggtgctgagttgccatttaccattgacaagtaatttgttcaaaaaaact\n",
      "\n",
      "\n",
      "\n",
      ">U94893.1 Influenza A virus (A/South Carolina/1/18 (H1N1)) neuraminidase gene, partial cds\n",
      "------------------------------------------------------------\n",
      "------------------------------------------------------------\n",
      "------------------------------------------------------------\n",
      "------------------------------------------------------------\n",
      "------------------------------------------------------------\n",
      "------------------------------------------------------------\n",
      "-----------------------------------gtcaatctg----------------\n",
      "------------------------------------------------------------\n",
      "------------------------------------------------------------\n",
      "------------------------------------------------------------\n",
      "------------------------------------------------------------\n",
      "------------------------------------------------------------\n",
      "------------------------------------------------------------\n",
      "------------------------------------------------------------\n",
      "------------------------------------------------------------\n",
      "------------------------------------------------------------\n",
      "------------------------------------------------------------\n",
      "----------------------------------------------tatggtagtcggaa\n",
      "taa---------------------------------------------------------\n",
      "------------------------------------------------------------\n",
      "---------------------ttagcctaatatt--------------------------\n",
      "------------------------------------------------------------\n",
      "------------------------------------------------------------\n",
      "------------------------------------------------------------\n",
      "--\n",
      ">ON371592.1 Influenza A virus (A/New Jersey/04/2022(H3N2)) segment 6 neuraminidase (NA) gene, complete cds\n",
      "agtaaagatgaatccaaatcaaaagataataacgattggctctgtttctctcacaatttc\n",
      "cacaatatgcttcttcatgcaaattgccatcctgataactactgtaacattgcatttcaa\n",
      "gcaatatgaattcaactcccccccaaataaccaagtgatgctgtgtgaaccaacaataat\n",
      "agaaagaaacataacagagatagtgtatttgaccaacaccaccatagagaaggaaatatg\n",
      "ccccaaaccagcagaatacagaaattggtcaaaaccgcaatgtggcattacaggatttgc\n",
      "acctttctctaaggacaattcgattaggctttccgctggtggggacatctgggtgacaag\n",
      "agaaccttatgtgtcatgcgatcttgacaagtgttatcaatttgcccttggacagggaac\n",
      "aacactaaacaatgtgcattcaaataacacagtacgtgatagaaccccttatcggactct\n",
      "attgatgaatgagttgggtgttcctttccatctggggaccaagcaagtgtgcatagcatg\n",
      "gtccagttcaagttgtcacgatggaaaagcatggctgcatgtttgtataacgggggatga\n",
      "taaaaatgcaactgctagcttcatttacaatgggaggcttgtagatagtgttgtttcatg\n",
      "gtccaacgatattctcagaacccaggagtcagaatgcgtttgtatcaatggaacttgtac\n",
      "agtagtaatgactgatggaaatgctacaggaaaagctgatactaaaatactattcattga\n",
      "ggaggggaaaatcgttcatactagcaaattgtcaggaagtgctcagcatgtcgaagagtg\n",
      "ctcttgctatcctcgatatcctggtgtcagatgtgtctgcagagacaactggaaaggatc\n",
      "caaccggcccatcatagatataaacataaaggatcatagcattgtttccaggtatgtgtg\n",
      "ttctggacttgttggagacacacccagaaaaagcgacagctccagcagtagccattgttt\n",
      "gaaccctaacaatgaaaaaggtggtcatggagtgaaaggctgggcctttgatgatggaaa\n",
      "tgacgtgtggatggggagaacaatcaacgagacgtcacgcttagggtatgaaaccttcaa\n",
      "agtcgttgaaggctggtccaaccctaagtccaaattgcagataaataggcaagtcatagt\n",
      "tgacagaggcgataggtccggttattctggtattttctctgttgaaggcaaaagctgcat\n",
      "caatcggtgcttttatgtggagttgattaggggaagaaaagaggaaactgaagtcttgtg\n",
      "gacttcaaacagtattgttgtgttttgtggcacctcaggtacatatggaacaggctcatg\n",
      "gcctgatggagcgaacctcagtctcatgcatatataagctttcgcaattttagaaaaaaa\n",
      "ct\n",
      "\n",
      "\n",
      "\n"
     ]
    }
   ],
   "source": [
    "#multiple sequence alignment for NA gene sequence\n",
    "NA = \"NA\"\n",
    "reference = 0\n",
    "count = 0\n",
    "with tempfile.NamedTemporaryFile() as temp:\n",
    "    for record in SeqIO.parse(NA, \"fasta\"):\n",
    "        if count == 0:\n",
    "            reference = record\n",
    "        else:\n",
    "            SeqIO.write([reference, record], temp.name, \"fasta\")\n",
    "            mafft_cline = MafftCommandline(input=temp.name)\n",
    "            stdout,stderr=mafft_cline()\n",
    "            print(stdout)\n",
    "        count += 1\n",
    "        print('\\n')"
   ]
  },
  {
   "cell_type": "markdown",
   "id": "6d31f368-350a-4bcd-bbe6-420c8bea1820",
   "metadata": {},
   "source": [
    "## PDB – Homology Modeling and Structural Bioinformatics"
   ]
  },
  {
   "cell_type": "markdown",
   "id": "d697b38d-e11f-4844-9dd5-434b7bd053c7",
   "metadata": {},
   "source": [
    "!curl https://urldefense.proofpoint.com/v2/url?u=https-3A__salilab.org_modeller_downloads_pdb-5F95.pir.gz&d=DwIGAg&c=-35OiAkTchMrZOngvJPOeA&r=XK4k89MR9rKQ57eNQvyPIkgLorH2PxP8QB_VSr9lqxs&m=lsV1GQVOohT4tu53SxHIxHbU9FhJoiqAo8tAj_2HjAH-CbkQb00PiSDmstzcLbl1&s=_qTBMlB3SdEnBuuLFNcCvsHYdpOSVOncxINylIDJflk&e=  -o pdb_95.pir.gz"
   ]
  },
  {
   "cell_type": "markdown",
   "id": "7b1adb41-49b7-4998-a88d-701f6c2571e3",
   "metadata": {},
   "source": [
    "## 3D Protein Measurements"
   ]
  },
  {
   "cell_type": "markdown",
   "id": "e77e3e6d-43a1-400a-a4eb-9df0029874b8",
   "metadata": {},
   "source": [
    "*define variables, comment out each step"
   ]
  },
  {
   "cell_type": "markdown",
   "id": "7dc90f7e",
   "metadata": {},
   "source": [
    "#### 3D NA Structures"
   ]
  },
  {
   "cell_type": "code",
   "execution_count": 4,
   "id": "332f99a7",
   "metadata": {},
   "outputs": [
    {
     "data": {
      "application/vnd.jupyter.widget-view+json": {
       "model_id": "7e43aa211706478dad75ce4ce71ac637",
       "version_major": 2,
       "version_minor": 0
      },
      "text/plain": [
       "NGLWidget()"
      ]
     },
     "metadata": {},
     "output_type": "display_data"
    }
   ],
   "source": [
    "#1918 NA PDB display\n",
    "view = nglview.show_pdbid(\"3BEQ\")\n",
    "view.add_representation('licorice', selection='chain A')\n",
    "view"
   ]
  },
  {
   "cell_type": "code",
   "execution_count": 5,
   "id": "21e579bd",
   "metadata": {},
   "outputs": [
    {
     "data": {
      "application/vnd.jupyter.widget-view+json": {
       "model_id": "325f03c71b5941d2b2c9f578a3e18211",
       "version_major": 2,
       "version_minor": 0
      },
      "text/plain": [
       "NGLWidget()"
      ]
     },
     "metadata": {},
     "output_type": "display_data"
    }
   ],
   "source": [
    "#2009 H1N1 NA PDB display\n",
    "view = nglview.show_pdbid(\"3NSS\")\n",
    "view.add_representation('licorice', selection='chain A')\n",
    "view"
   ]
  },
  {
   "cell_type": "code",
   "execution_count": 10,
   "id": "4b0045f9",
   "metadata": {},
   "outputs": [
    {
     "data": {
      "application/vnd.jupyter.widget-view+json": {
       "model_id": "c84bc09a44c44062b29d7a83e0f6f298",
       "version_major": 2,
       "version_minor": 0
      },
      "text/plain": [
       "NGLWidget()"
      ]
     },
     "metadata": {},
     "output_type": "display_data"
    }
   ],
   "source": [
    "#H2N2 NA PDB display\n",
    "view = nglview.show_pdbid(\"3TIA\")\n",
    "view.add_representation('licorice', selection='chain A')\n",
    "view"
   ]
  },
  {
   "cell_type": "code",
   "execution_count": 18,
   "id": "19ab2635",
   "metadata": {},
   "outputs": [
    {
     "data": {
      "application/vnd.jupyter.widget-view+json": {
       "model_id": "dc6616a6cb004e21b61c461769cf7a6f",
       "version_major": 2,
       "version_minor": 0
      },
      "text/plain": [
       "NGLWidget()"
      ]
     },
     "metadata": {},
     "output_type": "display_data"
    }
   ],
   "source": [
    "#H3N2 NA PDB display\n",
    "view = nglview.show_pdbid(\"4GZT\")\n",
    "view.add_representation('licorice', selection='chain A')\n",
    "view"
   ]
  },
  {
   "cell_type": "markdown",
   "id": "d02b45a7",
   "metadata": {},
   "source": [
    "#### 3D measurements NA"
   ]
  },
  {
   "cell_type": "code",
   "execution_count": 14,
   "id": "d89cf537",
   "metadata": {},
   "outputs": [
    {
     "name": "stdout",
     "output_type": "stream",
     "text": [
      "[  1.396  45.884 -12.955] - [ 2.978 44.669 -9.723] = 3.7979962825775146\n"
     ]
    },
    {
     "name": "stderr",
     "output_type": "stream",
     "text": [
      "/Users/martizzle/opt/anaconda3/lib/python3.9/site-packages/Bio/PDB/StructureBuilder.py:89: PDBConstructionWarning: WARNING: Chain A is discontinuous at line 6573.\n",
      "  warnings.warn(\n",
      "/Users/martizzle/opt/anaconda3/lib/python3.9/site-packages/Bio/PDB/StructureBuilder.py:89: PDBConstructionWarning: WARNING: Chain B is discontinuous at line 6637.\n",
      "  warnings.warn(\n",
      "/Users/martizzle/opt/anaconda3/lib/python3.9/site-packages/Bio/PDB/StructureBuilder.py:89: PDBConstructionWarning: WARNING: Chain A is discontinuous at line 6677.\n",
      "  warnings.warn(\n",
      "/Users/martizzle/opt/anaconda3/lib/python3.9/site-packages/Bio/PDB/StructureBuilder.py:89: PDBConstructionWarning: WARNING: Chain B is discontinuous at line 7074.\n",
      "  warnings.warn(\n"
     ]
    }
   ],
   "source": [
    "#1918 H1N1\n",
    "parser = PDBParser()\n",
    "structure = parser.get_structure(\"3BEQ\", \"3BEQ.pdb\")\n",
    "\n",
    "residues = [r for r in structure.get_residues()]\n",
    "# Calculate the distance between the alpha carbons for a pair of residues\n",
    "one  = residues[0][\"CA\"].get_coord()\n",
    "two = residues[1][\"CA\"].get_coord()\n",
    "print('{} - {} = {}'.format(one,two, numpy.linalg.norm(one-two)))"
   ]
  },
  {
   "cell_type": "code",
   "execution_count": 15,
   "id": "a3b84b00",
   "metadata": {},
   "outputs": [
    {
     "name": "stdout",
     "output_type": "stream",
     "text": [
      "[13.284 45.427 27.397] - [16.946 46.422 27.707] = 3.8074092864990234\n"
     ]
    },
    {
     "name": "stderr",
     "output_type": "stream",
     "text": [
      "/Users/martizzle/opt/anaconda3/lib/python3.9/site-packages/Bio/PDB/StructureBuilder.py:89: PDBConstructionWarning: WARNING: Chain A is discontinuous at line 12690.\n",
      "  warnings.warn(\n",
      "/Users/martizzle/opt/anaconda3/lib/python3.9/site-packages/Bio/PDB/StructureBuilder.py:89: PDBConstructionWarning: WARNING: Chain B is discontinuous at line 12748.\n",
      "  warnings.warn(\n",
      "/Users/martizzle/opt/anaconda3/lib/python3.9/site-packages/Bio/PDB/StructureBuilder.py:89: PDBConstructionWarning: WARNING: Chain A is discontinuous at line 12816.\n",
      "  warnings.warn(\n",
      "/Users/martizzle/opt/anaconda3/lib/python3.9/site-packages/Bio/PDB/StructureBuilder.py:89: PDBConstructionWarning: WARNING: Chain B is discontinuous at line 13730.\n",
      "  warnings.warn(\n"
     ]
    }
   ],
   "source": [
    "#2009 H1N1\n",
    "parser = PDBParser()\n",
    "structure = parser.get_structure(\"3NSS\", \"3NSS.pdb\")\n",
    "\n",
    "residues = [r for r in structure.get_residues()]\n",
    "# Calculate the distance between the alpha carbons for a pair of residues\n",
    "one  = residues[0][\"CA\"].get_coord()\n",
    "two = residues[1][\"CA\"].get_coord()\n",
    "print('{} - {} = {}'.format(one,two, numpy.linalg.norm(one-two)))"
   ]
  },
  {
   "cell_type": "code",
   "execution_count": 16,
   "id": "324fcb86",
   "metadata": {},
   "outputs": [
    {
     "name": "stdout",
     "output_type": "stream",
     "text": [
      "[15.781 15.689  5.877] - [16.952 18.702  3.869] = 3.805452585220337\n"
     ]
    },
    {
     "name": "stderr",
     "output_type": "stream",
     "text": [
      "/Users/martizzle/opt/anaconda3/lib/python3.9/site-packages/Bio/PDB/StructureBuilder.py:89: PDBConstructionWarning: WARNING: Chain A is discontinuous at line 25863.\n",
      "  warnings.warn(\n",
      "/Users/martizzle/opt/anaconda3/lib/python3.9/site-packages/Bio/PDB/StructureBuilder.py:89: PDBConstructionWarning: WARNING: Chain B is discontinuous at line 25913.\n",
      "  warnings.warn(\n",
      "/Users/martizzle/opt/anaconda3/lib/python3.9/site-packages/Bio/PDB/StructureBuilder.py:89: PDBConstructionWarning: WARNING: Chain C is discontinuous at line 25991.\n",
      "  warnings.warn(\n",
      "/Users/martizzle/opt/anaconda3/lib/python3.9/site-packages/Bio/PDB/StructureBuilder.py:89: PDBConstructionWarning: WARNING: Chain D is discontinuous at line 26041.\n",
      "  warnings.warn(\n",
      "/Users/martizzle/opt/anaconda3/lib/python3.9/site-packages/Bio/PDB/StructureBuilder.py:89: PDBConstructionWarning: WARNING: Chain A is discontinuous at line 26091.\n",
      "  warnings.warn(\n",
      "/Users/martizzle/opt/anaconda3/lib/python3.9/site-packages/Bio/PDB/StructureBuilder.py:89: PDBConstructionWarning: WARNING: Chain B is discontinuous at line 27041.\n",
      "  warnings.warn(\n",
      "/Users/martizzle/opt/anaconda3/lib/python3.9/site-packages/Bio/PDB/StructureBuilder.py:89: PDBConstructionWarning: WARNING: Chain C is discontinuous at line 28029.\n",
      "  warnings.warn(\n",
      "/Users/martizzle/opt/anaconda3/lib/python3.9/site-packages/Bio/PDB/StructureBuilder.py:89: PDBConstructionWarning: WARNING: Chain D is discontinuous at line 29005.\n",
      "  warnings.warn(\n"
     ]
    }
   ],
   "source": [
    "#H2N2\n",
    "parser = PDBParser()\n",
    "structure = parser.get_structure(\"3TIA\", \"3TIA.pdb\")\n",
    "\n",
    "residues = [r for r in structure.get_residues()]\n",
    "# Calculate the distance between the alpha carbons for a pair of residues\n",
    "one  = residues[0][\"CA\"].get_coord()\n",
    "two = residues[1][\"CA\"].get_coord()\n",
    "print('{} - {} = {}'.format(one,two, numpy.linalg.norm(one-two)))"
   ]
  },
  {
   "cell_type": "code",
   "execution_count": 19,
   "id": "b76b0d62",
   "metadata": {},
   "outputs": [
    {
     "name": "stdout",
     "output_type": "stream",
     "text": [
      "[43.234 42.732 25.352] - [44.146 39.022 25.277] = 3.82118558883667\n"
     ]
    },
    {
     "name": "stderr",
     "output_type": "stream",
     "text": [
      "/Users/martizzle/opt/anaconda3/lib/python3.9/site-packages/Bio/PDB/StructureBuilder.py:89: PDBConstructionWarning: WARNING: Chain A is discontinuous at line 13279.\n",
      "  warnings.warn(\n",
      "/Users/martizzle/opt/anaconda3/lib/python3.9/site-packages/Bio/PDB/StructureBuilder.py:89: PDBConstructionWarning: WARNING: Chain B is discontinuous at line 13329.\n",
      "  warnings.warn(\n",
      "/Users/martizzle/opt/anaconda3/lib/python3.9/site-packages/Bio/PDB/StructureBuilder.py:89: PDBConstructionWarning: WARNING: Chain C is discontinuous at line 13392.\n",
      "  warnings.warn(\n",
      "/Users/martizzle/opt/anaconda3/lib/python3.9/site-packages/Bio/PDB/StructureBuilder.py:89: PDBConstructionWarning: WARNING: Chain D is discontinuous at line 13427.\n",
      "  warnings.warn(\n",
      "/Users/martizzle/opt/anaconda3/lib/python3.9/site-packages/Bio/PDB/StructureBuilder.py:89: PDBConstructionWarning: WARNING: Chain A is discontinuous at line 13476.\n",
      "  warnings.warn(\n",
      "/Users/martizzle/opt/anaconda3/lib/python3.9/site-packages/Bio/PDB/StructureBuilder.py:89: PDBConstructionWarning: WARNING: Chain B is discontinuous at line 13624.\n",
      "  warnings.warn(\n",
      "/Users/martizzle/opt/anaconda3/lib/python3.9/site-packages/Bio/PDB/StructureBuilder.py:89: PDBConstructionWarning: WARNING: Chain C is discontinuous at line 13771.\n",
      "  warnings.warn(\n",
      "/Users/martizzle/opt/anaconda3/lib/python3.9/site-packages/Bio/PDB/StructureBuilder.py:89: PDBConstructionWarning: WARNING: Chain D is discontinuous at line 13929.\n",
      "  warnings.warn(\n"
     ]
    }
   ],
   "source": [
    "#H3N2\n",
    "parser = PDBParser()\n",
    "structure = parser.get_structure(\"4GZT\", \"4GZT.pdb\")\n",
    "\n",
    "residues = [r for r in structure.get_residues()]\n",
    "# Calculate the distance between the alpha carbons for a pair of residues\n",
    "one  = residues[0][\"CA\"].get_coord()\n",
    "two = residues[1][\"CA\"].get_coord()\n",
    "print('{} - {} = {}'.format(one,two, numpy.linalg.norm(one-two)))"
   ]
  },
  {
   "cell_type": "markdown",
   "id": "79cd3c82",
   "metadata": {},
   "source": [
    "#### 3D HA Structures"
   ]
  },
  {
   "cell_type": "code",
   "execution_count": 20,
   "id": "8bc8a7b5",
   "metadata": {},
   "outputs": [
    {
     "data": {
      "application/vnd.jupyter.widget-view+json": {
       "model_id": "84a34cbcc7094af898630b4b3ea9ae06",
       "version_major": 2,
       "version_minor": 0
      },
      "text/plain": [
       "NGLWidget()"
      ]
     },
     "metadata": {},
     "output_type": "display_data"
    }
   ],
   "source": [
    "#1918 HA PDB display\n",
    "view = nglview.show_pdbid(\"3GBN\")\n",
    "view.add_representation('licorice', selection='chain A')\n",
    "view"
   ]
  },
  {
   "cell_type": "code",
   "execution_count": 21,
   "id": "3f7ced6a",
   "metadata": {},
   "outputs": [
    {
     "data": {
      "application/vnd.jupyter.widget-view+json": {
       "model_id": "33eef409843c411e99bc9cf2b30eb8c8",
       "version_major": 2,
       "version_minor": 0
      },
      "text/plain": [
       "NGLWidget()"
      ]
     },
     "metadata": {},
     "output_type": "display_data"
    }
   ],
   "source": [
    "#2009 HA PDB display\n",
    "view = nglview.show_pdbid(\"3LZG\")\n",
    "view.add_representation('licorice', selection='chain A')\n",
    "view"
   ]
  },
  {
   "cell_type": "code",
   "execution_count": 7,
   "id": "62309eae",
   "metadata": {},
   "outputs": [
    {
     "data": {
      "application/vnd.jupyter.widget-view+json": {
       "model_id": "14ac3a4bec0a4454b77978770e421187",
       "version_major": 2,
       "version_minor": 0
      },
      "text/plain": [
       "NGLWidget()"
      ]
     },
     "metadata": {},
     "output_type": "display_data"
    }
   ],
   "source": [
    "#H2N2 (1957 strain) HA PDB display\n",
    "view = nglview.show_pdbid(\"3KU6\")\n",
    "view.add_representation('licorice', selection='chain A')\n",
    "view"
   ]
  },
  {
   "cell_type": "code",
   "execution_count": 9,
   "id": "cb1f7e91",
   "metadata": {},
   "outputs": [
    {
     "data": {
      "application/vnd.jupyter.widget-view+json": {
       "model_id": "9fbd057dd6a8423e856a156380ede2af",
       "version_major": 2,
       "version_minor": 0
      },
      "text/plain": [
       "NGLWidget()"
      ]
     },
     "metadata": {},
     "output_type": "display_data"
    }
   ],
   "source": [
    "#H3N2 (1973 seasonal strain) HA PDB display\n",
    "view = nglview.show_pdbid(\"4WE5\")\n",
    "view.add_representation('licorice', selection='chain A')\n",
    "view"
   ]
  },
  {
   "cell_type": "markdown",
   "id": "95c038d8",
   "metadata": {},
   "source": [
    "#### HA 3D Measurements"
   ]
  },
  {
   "cell_type": "code",
   "execution_count": 22,
   "id": "0e56e255",
   "metadata": {},
   "outputs": [
    {
     "name": "stdout",
     "output_type": "stream",
     "text": [
      "[-82.902  -1.797  -4.32 ] - [-83.23    0.344  -6.323] = 2.950165271759033\n"
     ]
    },
    {
     "name": "stderr",
     "output_type": "stream",
     "text": [
      "/Users/martizzle/opt/anaconda3/lib/python3.9/site-packages/Bio/PDB/StructureBuilder.py:89: PDBConstructionWarning: WARNING: Chain A is discontinuous at line 7632.\n",
      "  warnings.warn(\n",
      "/Users/martizzle/opt/anaconda3/lib/python3.9/site-packages/Bio/PDB/StructureBuilder.py:89: PDBConstructionWarning: WARNING: Chain B is discontinuous at line 7662.\n",
      "  warnings.warn(\n",
      "/Users/martizzle/opt/anaconda3/lib/python3.9/site-packages/Bio/PDB/StructureBuilder.py:89: PDBConstructionWarning: WARNING: Chain H is discontinuous at line 7709.\n",
      "  warnings.warn(\n",
      "/Users/martizzle/opt/anaconda3/lib/python3.9/site-packages/Bio/PDB/StructureBuilder.py:89: PDBConstructionWarning: WARNING: Chain A is discontinuous at line 7713.\n",
      "  warnings.warn(\n",
      "/Users/martizzle/opt/anaconda3/lib/python3.9/site-packages/Bio/PDB/StructureBuilder.py:89: PDBConstructionWarning: WARNING: Chain B is discontinuous at line 7795.\n",
      "  warnings.warn(\n",
      "/Users/martizzle/opt/anaconda3/lib/python3.9/site-packages/Bio/PDB/StructureBuilder.py:89: PDBConstructionWarning: WARNING: Chain H is discontinuous at line 7919.\n",
      "  warnings.warn(\n",
      "/Users/martizzle/opt/anaconda3/lib/python3.9/site-packages/Bio/PDB/StructureBuilder.py:89: PDBConstructionWarning: WARNING: Chain L is discontinuous at line 7998.\n",
      "  warnings.warn(\n"
     ]
    }
   ],
   "source": [
    "#1918 H1N1\n",
    "parser = PDBParser()\n",
    "structure = parser.get_structure(\"3GBN\", \"3GBN.pdb\")\n",
    "\n",
    "residues = [r for r in structure.get_residues()]\n",
    "# Calculate the distance between the alpha carbons for a pair of residues\n",
    "one  = residues[0][\"CA\"].get_coord()\n",
    "two = residues[1][\"CA\"].get_coord()\n",
    "print('{} - {} = {}'.format(one,two, numpy.linalg.norm(one-two)))"
   ]
  },
  {
   "cell_type": "code",
   "execution_count": 23,
   "id": "9923aeea",
   "metadata": {},
   "outputs": [
    {
     "name": "stdout",
     "output_type": "stream",
     "text": [
      "[-20.541  43.585 -67.855] - [-18.857  44.085 -64.472] = 3.8118979930877686\n"
     ]
    },
    {
     "name": "stderr",
     "output_type": "stream",
     "text": [
      "/Users/martizzle/opt/anaconda3/lib/python3.9/site-packages/Bio/PDB/StructureBuilder.py:89: PDBConstructionWarning: WARNING: Chain E is discontinuous at line 48331.\n",
      "  warnings.warn(\n",
      "/Users/martizzle/opt/anaconda3/lib/python3.9/site-packages/Bio/PDB/StructureBuilder.py:89: PDBConstructionWarning: WARNING: Chain K is discontinuous at line 48359.\n",
      "  warnings.warn(\n",
      "/Users/martizzle/opt/anaconda3/lib/python3.9/site-packages/Bio/PDB/StructureBuilder.py:89: PDBConstructionWarning: WARNING: Chain A is discontinuous at line 48387.\n",
      "  warnings.warn(\n",
      "/Users/martizzle/opt/anaconda3/lib/python3.9/site-packages/Bio/PDB/StructureBuilder.py:89: PDBConstructionWarning: WARNING: Chain B is discontinuous at line 48456.\n",
      "  warnings.warn(\n",
      "/Users/martizzle/opt/anaconda3/lib/python3.9/site-packages/Bio/PDB/StructureBuilder.py:89: PDBConstructionWarning: WARNING: Chain C is discontinuous at line 48488.\n",
      "  warnings.warn(\n",
      "/Users/martizzle/opt/anaconda3/lib/python3.9/site-packages/Bio/PDB/StructureBuilder.py:89: PDBConstructionWarning: WARNING: Chain D is discontinuous at line 48542.\n",
      "  warnings.warn(\n",
      "/Users/martizzle/opt/anaconda3/lib/python3.9/site-packages/Bio/PDB/StructureBuilder.py:89: PDBConstructionWarning: WARNING: Chain E is discontinuous at line 48565.\n",
      "  warnings.warn(\n",
      "/Users/martizzle/opt/anaconda3/lib/python3.9/site-packages/Bio/PDB/StructureBuilder.py:89: PDBConstructionWarning: WARNING: Chain F is discontinuous at line 48625.\n",
      "  warnings.warn(\n",
      "/Users/martizzle/opt/anaconda3/lib/python3.9/site-packages/Bio/PDB/StructureBuilder.py:89: PDBConstructionWarning: WARNING: Chain G is discontinuous at line 48648.\n",
      "  warnings.warn(\n",
      "/Users/martizzle/opt/anaconda3/lib/python3.9/site-packages/Bio/PDB/StructureBuilder.py:89: PDBConstructionWarning: WARNING: Chain H is discontinuous at line 48707.\n",
      "  warnings.warn(\n",
      "/Users/martizzle/opt/anaconda3/lib/python3.9/site-packages/Bio/PDB/StructureBuilder.py:89: PDBConstructionWarning: WARNING: Chain I is discontinuous at line 48731.\n",
      "  warnings.warn(\n",
      "/Users/martizzle/opt/anaconda3/lib/python3.9/site-packages/Bio/PDB/StructureBuilder.py:89: PDBConstructionWarning: WARNING: Chain J is discontinuous at line 48770.\n",
      "  warnings.warn(\n",
      "/Users/martizzle/opt/anaconda3/lib/python3.9/site-packages/Bio/PDB/StructureBuilder.py:89: PDBConstructionWarning: WARNING: Chain K is discontinuous at line 48790.\n",
      "  warnings.warn(\n",
      "/Users/martizzle/opt/anaconda3/lib/python3.9/site-packages/Bio/PDB/StructureBuilder.py:89: PDBConstructionWarning: WARNING: Chain L is discontinuous at line 48824.\n",
      "  warnings.warn(\n"
     ]
    }
   ],
   "source": [
    "#2009 H1N1\n",
    "parser = PDBParser()\n",
    "structure = parser.get_structure(\"3LZG\", \"3LZG.pdb\")\n",
    "\n",
    "residues = [r for r in structure.get_residues()]\n",
    "# Calculate the distance between the alpha carbons for a pair of residues\n",
    "one  = residues[0][\"CA\"].get_coord()\n",
    "two = residues[1][\"CA\"].get_coord()\n",
    "print('{} - {} = {}'.format(one,two, numpy.linalg.norm(one-two)))"
   ]
  },
  {
   "cell_type": "code",
   "execution_count": 24,
   "id": "b2e8cfc3",
   "metadata": {},
   "outputs": [
    {
     "name": "stdout",
     "output_type": "stream",
     "text": [
      "[-11.701 -26.026  47.188] - [ -8.401 -24.188  46.502] = 3.8391196727752686\n"
     ]
    },
    {
     "name": "stderr",
     "output_type": "stream",
     "text": [
      "/Users/martizzle/opt/anaconda3/lib/python3.9/site-packages/Bio/PDB/StructureBuilder.py:89: PDBConstructionWarning: WARNING: Chain A is discontinuous at line 4493.\n",
      "  warnings.warn(\n",
      "/Users/martizzle/opt/anaconda3/lib/python3.9/site-packages/Bio/PDB/StructureBuilder.py:89: PDBConstructionWarning: WARNING: Chain B is discontinuous at line 4511.\n",
      "  warnings.warn(\n",
      "/Users/martizzle/opt/anaconda3/lib/python3.9/site-packages/Bio/PDB/StructureBuilder.py:89: PDBConstructionWarning: WARNING: Chain A is discontinuous at line 4518.\n",
      "  warnings.warn(\n",
      "/Users/martizzle/opt/anaconda3/lib/python3.9/site-packages/Bio/PDB/StructureBuilder.py:89: PDBConstructionWarning: WARNING: Chain B is discontinuous at line 4962.\n",
      "  warnings.warn(\n"
     ]
    }
   ],
   "source": [
    "#H2N2\n",
    "parser = PDBParser()\n",
    "structure = parser.get_structure(\"3KU6\", \"3KU6.pdb\")\n",
    "\n",
    "residues = [r for r in structure.get_residues()]\n",
    "# Calculate the distance between the alpha carbons for a pair of residues\n",
    "one  = residues[0][\"CA\"].get_coord()\n",
    "two = residues[1][\"CA\"].get_coord()\n",
    "print('{} - {} = {}'.format(one,two, numpy.linalg.norm(one-two)))"
   ]
  },
  {
   "cell_type": "code",
   "execution_count": 25,
   "id": "2d272750",
   "metadata": {},
   "outputs": [
    {
     "name": "stdout",
     "output_type": "stream",
     "text": [
      "[-27.684 -62.485 -67.983] - [-29.188 -59.164 -66.993] = 3.777719259262085\n"
     ]
    },
    {
     "name": "stderr",
     "output_type": "stream",
     "text": [
      "/Users/martizzle/opt/anaconda3/lib/python3.9/site-packages/Bio/PDB/StructureBuilder.py:89: PDBConstructionWarning: WARNING: Chain A is discontinuous at line 8571.\n",
      "  warnings.warn(\n",
      "/Users/martizzle/opt/anaconda3/lib/python3.9/site-packages/Bio/PDB/StructureBuilder.py:89: PDBConstructionWarning: WARNING: Chain B is discontinuous at line 8845.\n",
      "  warnings.warn(\n"
     ]
    }
   ],
   "source": [
    "#H3N2\n",
    "parser = PDBParser()\n",
    "structure = parser.get_structure(\"4WE5\", \"4WE5.pdb\")\n",
    "\n",
    "residues = [r for r in structure.get_residues()]\n",
    "# Calculate the distance between the alpha carbons for a pair of residues\n",
    "one  = residues[0][\"CA\"].get_coord()\n",
    "two = residues[1][\"CA\"].get_coord()\n",
    "print('{} - {} = {}'.format(one,two, numpy.linalg.norm(one-two)))"
   ]
  },
  {
   "cell_type": "markdown",
   "id": "a7f00ee1-520f-4d01-9932-365038caaa8d",
   "metadata": {},
   "source": [
    "#### Hemagglutinin (HA) Sequence Logo"
   ]
  },
  {
   "cell_type": "code",
   "execution_count": 15,
   "id": "26b0a37d-23b0-484c-b878-63915eb59c10",
   "metadata": {},
   "outputs": [],
   "source": [
    "fin = open('HA_align.txt')\n",
    "seqs = read_seq_data(fin)\n",
    "logodata = LogoData.from_seqs(seqs)\n",
    "logooptions = LogoOptions()\n",
    "logooptions.title = \"HA\"\n",
    "logoformat = LogoFormat(logodata, logooptions)\n",
    "eps = eps_formatter(logodata, logoformat)  "
   ]
  },
  {
   "cell_type": "code",
   "execution_count": 22,
   "id": "c282f521-67f7-4e24-947c-2e9f8731d1c1",
   "metadata": {},
   "outputs": [],
   "source": [
    "import numpy as np\n",
    "import pandas as pd\n",
    "import matplotlib.pyplot as plt\n",
    "%matplotlib inline\n",
    "plt.ion()\n",
    "\n",
    "import logomaker as lm"
   ]
  },
  {
   "cell_type": "code",
   "execution_count": 25,
   "id": "3351e92a-231d-492f-b62a-c68461f512d7",
   "metadata": {},
   "outputs": [
    {
     "ename": "LogomakerError",
     "evalue": "Matrix \"HA_align.txt\" not recognized. Please choose from: \n'ss_sequences.txt'\n'ww_sequences.fa'\n'crp_sites.fa'\n'nn_saliency_values.txt'\n'ars_wt_sequence.txt'\n'ars_sequences.txt.gz'",
     "output_type": "error",
     "traceback": [
      "\u001b[0;31m---------------------------------------------------------------------------\u001b[0m",
      "\u001b[0;31mLogomakerError\u001b[0m                            Traceback (most recent call last)",
      "Input \u001b[0;32mIn [25]\u001b[0m, in \u001b[0;36m<cell line: 1>\u001b[0;34m()\u001b[0m\n\u001b[0;32m----> 1\u001b[0m \u001b[38;5;28;01mwith\u001b[39;00m \u001b[43mlm\u001b[49m\u001b[38;5;241;43m.\u001b[39;49m\u001b[43mopen_example_datafile\u001b[49m\u001b[43m(\u001b[49m\u001b[38;5;124;43m'\u001b[39;49m\u001b[38;5;124;43mHA_align.txt\u001b[39;49m\u001b[38;5;124;43m'\u001b[39;49m\u001b[43m,\u001b[49m\u001b[43m \u001b[49m\u001b[43mprint_description\u001b[49m\u001b[38;5;241;43m=\u001b[39;49m\u001b[38;5;28;43;01mFalse\u001b[39;49;00m\u001b[43m)\u001b[49m \u001b[38;5;28;01mas\u001b[39;00m f:\n\u001b[1;32m      2\u001b[0m     raw_seqs \u001b[38;5;241m=\u001b[39m f\u001b[38;5;241m.\u001b[39mreadlines()\n\u001b[1;32m      3\u001b[0m raw_seqs[\u001b[38;5;241m10\u001b[39m:\u001b[38;5;241m20\u001b[39m]\n",
      "File \u001b[0;32m~/opt/anaconda3/lib/python3.9/site-packages/logomaker/src/error_handling.py:134\u001b[0m, in \u001b[0;36mhandle_errors.<locals>.wrapped_func\u001b[0;34m(*args, **kwargs)\u001b[0m\n\u001b[1;32m    130\u001b[0m         mistake \u001b[38;5;241m=\u001b[39m \u001b[38;5;28;01mTrue\u001b[39;00m\n\u001b[1;32m    132\u001b[0m     \u001b[38;5;66;03m# Otherwise, raise error\u001b[39;00m\n\u001b[1;32m    133\u001b[0m     \u001b[38;5;28;01melse\u001b[39;00m:\n\u001b[0;32m--> 134\u001b[0m         \u001b[38;5;28;01mraise\u001b[39;00m e\n\u001b[1;32m    136\u001b[0m \u001b[38;5;66;03m# If not in debug mode, and no error was detected above,\u001b[39;00m\n\u001b[1;32m    137\u001b[0m \u001b[38;5;28;01mif\u001b[39;00m should_fail \u001b[38;5;129;01mis\u001b[39;00m \u001b[38;5;28;01mNone\u001b[39;00m:\n\u001b[1;32m    138\u001b[0m \n\u001b[1;32m    139\u001b[0m     \u001b[38;5;66;03m# Just return result\u001b[39;00m\n",
      "File \u001b[0;32m~/opt/anaconda3/lib/python3.9/site-packages/logomaker/src/error_handling.py:102\u001b[0m, in \u001b[0;36mhandle_errors.<locals>.wrapped_func\u001b[0;34m(*args, **kwargs)\u001b[0m\n\u001b[1;32m     98\u001b[0m mistake \u001b[38;5;241m=\u001b[39m \u001b[38;5;28;01mNone\u001b[39;00m\n\u001b[1;32m    100\u001b[0m \u001b[38;5;28;01mtry\u001b[39;00m:\n\u001b[1;32m    101\u001b[0m     \u001b[38;5;66;03m# Execute function\u001b[39;00m\n\u001b[0;32m--> 102\u001b[0m     result \u001b[38;5;241m=\u001b[39m \u001b[43mfunc\u001b[49m\u001b[43m(\u001b[49m\u001b[38;5;241;43m*\u001b[39;49m\u001b[43margs\u001b[49m\u001b[43m,\u001b[49m\u001b[43m \u001b[49m\u001b[38;5;241;43m*\u001b[39;49m\u001b[38;5;241;43m*\u001b[39;49m\u001b[43mkwargs\u001b[49m\u001b[43m)\u001b[49m\n\u001b[1;32m    104\u001b[0m     \u001b[38;5;66;03m# If running functional test and expect to fail\u001b[39;00m\n\u001b[1;32m    105\u001b[0m     \u001b[38;5;28;01mif\u001b[39;00m should_fail \u001b[38;5;129;01mis\u001b[39;00m \u001b[38;5;28;01mTrue\u001b[39;00m:\n",
      "File \u001b[0;32m~/opt/anaconda3/lib/python3.9/site-packages/logomaker/src/examples.py:116\u001b[0m, in \u001b[0;36mopen_example_datafile\u001b[0;34m(name, print_description)\u001b[0m\n\u001b[1;32m    113\u001b[0m valid_datafiles \u001b[38;5;241m=\u001b[39m list_example_datafiles()\n\u001b[1;32m    115\u001b[0m \u001b[38;5;66;03m# check that specified datafile is valid\u001b[39;00m\n\u001b[0;32m--> 116\u001b[0m \u001b[43mcheck\u001b[49m\u001b[43m(\u001b[49m\u001b[43mname\u001b[49m\u001b[43m \u001b[49m\u001b[38;5;129;43;01min\u001b[39;49;00m\u001b[43m \u001b[49m\u001b[43mvalid_datafiles\u001b[49m\u001b[43m,\u001b[49m\n\u001b[1;32m    117\u001b[0m \u001b[43m      \u001b[49m\u001b[38;5;124;43m'\u001b[39;49m\u001b[38;5;124;43mMatrix \u001b[39;49m\u001b[38;5;124;43m\"\u001b[39;49m\u001b[38;5;132;43;01m%s\u001b[39;49;00m\u001b[38;5;124;43m\"\u001b[39;49m\u001b[38;5;124;43m not recognized. Please choose from: \u001b[39;49m\u001b[38;5;130;43;01m\\n\u001b[39;49;00m\u001b[38;5;132;43;01m%s\u001b[39;49;00m\u001b[38;5;124;43m'\u001b[39;49m\n\u001b[1;32m    118\u001b[0m \u001b[43m      \u001b[49m\u001b[38;5;241;43m%\u001b[39;49m\u001b[43m \u001b[49m\u001b[43m(\u001b[49m\u001b[43mname\u001b[49m\u001b[43m,\u001b[49m\u001b[43m \u001b[49m\u001b[38;5;124;43m'\u001b[39;49m\u001b[38;5;130;43;01m\\n\u001b[39;49;00m\u001b[38;5;124;43m'\u001b[39;49m\u001b[38;5;241;43m.\u001b[39;49m\u001b[43mjoin\u001b[49m\u001b[43m(\u001b[49m\u001b[43m[\u001b[49m\u001b[38;5;28;43mrepr\u001b[39;49m\u001b[43m(\u001b[49m\u001b[43mx\u001b[49m\u001b[43m)\u001b[49m\u001b[43m \u001b[49m\u001b[38;5;28;43;01mfor\u001b[39;49;00m\u001b[43m \u001b[49m\u001b[43mx\u001b[49m\u001b[43m \u001b[49m\u001b[38;5;129;43;01min\u001b[39;49;00m\u001b[43m \u001b[49m\u001b[43mvalid_datafiles\u001b[49m\u001b[43m]\u001b[49m\u001b[43m)\u001b[49m\u001b[43m)\u001b[49m\u001b[43m)\u001b[49m\n\u001b[1;32m    120\u001b[0m \u001b[38;5;66;03m# check that print_description is boolean\u001b[39;00m\n\u001b[1;32m    121\u001b[0m check(\u001b[38;5;28misinstance\u001b[39m(print_description, \u001b[38;5;28mbool\u001b[39m),\n\u001b[1;32m    122\u001b[0m       \u001b[38;5;124m'\u001b[39m\u001b[38;5;124mtype(print_description) = \u001b[39m\u001b[38;5;132;01m%s\u001b[39;00m\u001b[38;5;124m; must be of type bool \u001b[39m\u001b[38;5;124m'\u001b[39m \u001b[38;5;241m%\u001b[39m\n\u001b[1;32m    123\u001b[0m       \u001b[38;5;28mtype\u001b[39m(print_description))\n",
      "File \u001b[0;32m~/opt/anaconda3/lib/python3.9/site-packages/logomaker/src/error_handling.py:56\u001b[0m, in \u001b[0;36mcheck\u001b[0;34m(condition, message)\u001b[0m\n\u001b[1;32m     36\u001b[0m \u001b[38;5;124;03m\"\"\"\u001b[39;00m\n\u001b[1;32m     37\u001b[0m \u001b[38;5;124;03mChecks a condition; raises a LogomakerError with message if condition\u001b[39;00m\n\u001b[1;32m     38\u001b[0m \u001b[38;5;124;03mevaluates to False\u001b[39;00m\n\u001b[0;32m   (...)\u001b[0m\n\u001b[1;32m     52\u001b[0m \u001b[38;5;124;03mNone\u001b[39;00m\n\u001b[1;32m     53\u001b[0m \u001b[38;5;124;03m\"\"\"\u001b[39;00m\n\u001b[1;32m     55\u001b[0m \u001b[38;5;28;01mif\u001b[39;00m \u001b[38;5;129;01mnot\u001b[39;00m condition:\n\u001b[0;32m---> 56\u001b[0m     \u001b[38;5;28;01mraise\u001b[39;00m LogomakerError(message)\n",
      "\u001b[0;31mLogomakerError\u001b[0m: Matrix \"HA_align.txt\" not recognized. Please choose from: \n'ss_sequences.txt'\n'ww_sequences.fa'\n'crp_sites.fa'\n'nn_saliency_values.txt'\n'ars_wt_sequence.txt'\n'ars_sequences.txt.gz'"
     ]
    }
   ],
   "source": [
    "with lm.open_example_datafile('HA_align.txt', print_description=False) as f:\n",
    "    raw_seqs = f.readlines()\n",
    "raw_seqs[10:20]"
   ]
  },
  {
   "cell_type": "markdown",
   "id": "ac69ede1-732a-4593-b4ff-f603cbadb9e1",
   "metadata": {},
   "source": [
    "## Phylogenetic Clustering"
   ]
  },
  {
   "cell_type": "markdown",
   "id": "f18842dd-7e5d-4bcc-8d79-55da9eee0798",
   "metadata": {},
   "source": [
    "*add description of method\n",
    "\n",
    "*add details to tree figure such as title and see if you can change the accension numbers to the influenza strain type and the year it was isolated from (H1N1 1918, H1N1 2009, etc)"
   ]
  },
  {
   "cell_type": "markdown",
   "id": "b1db892b-071c-43bf-ae3a-95dcadad2fe6",
   "metadata": {},
   "source": [
    "#### Hemagglutinin (HA) tree"
   ]
  },
  {
   "cell_type": "code",
   "execution_count": 36,
   "id": "dfe8abd0-b071-4ad5-85bf-6ab01b7bb0a4",
   "metadata": {},
   "outputs": [
    {
     "name": "stdout",
     "output_type": "stream",
     "text": [
      "Alignment with 5 rows and 1797 columns\n",
      "--------------TAATTCTATTAATCATGAAGACCATCATTG...--- CY147438.1\n",
      "-----------GGATAATTCTATTAACCATGAAGACTATCATTG...--- ON371590.1\n",
      "AGCAAAAGCAGGGGTTATACCATAGACAACCAAAAGCATAACAA...TGA L11133.1\n",
      "-------------------------------------ATGGAGG...--- AF117241.1\n",
      "--------------GGAAAACAAAAGCAACAA---AAATGAAGG...--- GU433033.1\n",
      "CY147438.1\t0\n",
      "ON371590.1\t0.15470228158041177\t0\n",
      "L11133.1\t0.516972732331664\t0.521981079577073\t0\n",
      "AF117241.1\t0.5080690038953812\t0.5097384529771842\t0.37840845854201444\t0\n",
      "GU433033.1\t0.5080690038953812\t0.5230940456316082\t0.38341680578742343\t0.20144685587089595\t0\n",
      "\tCY147438.1\tON371590.1\tL11133.1\tAF117241.1\tGU433033.1\n"
     ]
    },
    {
     "data": {
      "image/png": "[encoded data removed]",
      "text/plain": [
       "<Figure size 432x288 with 1 Axes>"
      ]
     },
     "metadata": {
      "needs_background": "light"
     },
     "output_type": "display_data"
    }
   ],
   "source": [
    "#read and align query sequences from the file \"CoV_S_seqs.fasta\" and name the alignment result as \"align\"\n",
    "align = AlignIO.read(\"HA_align.txt\", \"fasta\")\n",
    "\n",
    "#print out the alignment result\n",
    "print(align)\n",
    "\n",
    "#calculate the distance matrix using DistanceCalculator and name as \"distMatrix\"\n",
    "calculator = DistanceCalculator('identity')\n",
    "distMatrix = calculator.get_distance(align)\n",
    "\n",
    "#print out distance matrix result\n",
    "print(distMatrix)\n",
    "\n",
    "#create a DistanceTreeConstructor object\n",
    "constructor = DistanceTreeConstructor()\n",
    "\n",
    "#Construct the phylogenetic tree using UPGMA algorithm\n",
    "Tree = constructor.upgma(distMatrix)\n",
    "\n",
    "#Draw the phylogenetic tree with phylo.draw() function\n",
    "Phylo.draw(Tree)"
   ]
  },
  {
   "cell_type": "markdown",
   "id": "baf82564-1ea3-4a9c-a6da-32b3d487c546",
   "metadata": {},
   "source": [
    "#### Neuraminidase (NA) tree"
   ]
  },
  {
   "cell_type": "code",
   "execution_count": 37,
   "id": "777dd640-cf62-4fab-8e1e-3ad711a453af",
   "metadata": {},
   "outputs": [
    {
     "name": "stdout",
     "output_type": "stream",
     "text": [
      "Alignment with 5 rows and 1463 columns\n",
      "-AGTAAAGATGAATCCAAATCAAAAGATAATAACGATTGGCTCT...ACT ON371592.1\n",
      "--------ATGAATCCAAATCAAAAGATAATAACAATTGGCTCT...--- AY209932.1\n",
      "-AGTGAAAATGAATCCAAATCAAAAGATAATAACAATTGGCTCT...ACT CY147440.1\n",
      "----------------------------------------GTCA...--- U94893.1\n",
      "AGTTTAAAATGAATCCAAACCAAAAGATAATAACCATTGGTTCG...ACT GU433035.1\n",
      "ON371592.1\t0\n",
      "AY209932.1\t0.15994531784005472\t0\n",
      "CY147440.1\t0.13123718386876282\t0.03964456596035548\t0\n",
      "U94893.1\t0.974025974025974\t0.9514695830485305\t0.9733424470266575\t0\n",
      "GU433035.1\t0.5181134654818865\t0.5208475734791524\t0.5146958304853042\t0.9617224880382775\t0\n",
      "\tON371592.1\tAY209932.1\tCY147440.1\tU94893.1\tGU433035.1\n"
     ]
    },
    {
     "data": {
      "image/png": "[encoded data removed]",
      "text/plain": [
       "<Figure size 432x288 with 1 Axes>"
      ]
     },
     "metadata": {
      "needs_background": "light"
     },
     "output_type": "display_data"
    }
   ],
   "source": [
    "#read and align query sequences from the file \"CoV_S_seqs.fasta\" and name the alignment result as \"align\"\n",
    "align = AlignIO.read(\"NA_align.txt\", \"fasta\")\n",
    "\n",
    "#print out the alignment result\n",
    "print(align)\n",
    "\n",
    "#calculate the distance matrix using DistanceCalculator and name as \"distMatrix\"\n",
    "calculator = DistanceCalculator('identity')\n",
    "distMatrix = calculator.get_distance(align)\n",
    "\n",
    "#print out distance matrix result\n",
    "print(distMatrix)\n",
    "\n",
    "#create a DistanceTreeConstructor object\n",
    "constructor = DistanceTreeConstructor()\n",
    "\n",
    "#Construct the phylogenetic tree using UPGMA algorithm\n",
    "Tree = constructor.upgma(distMatrix)\n",
    "\n",
    "#Draw the phylogenetic tree with phylo.draw() function\n",
    "Phylo.draw(Tree)"
   ]
  },
  {
   "cell_type": "markdown",
   "id": "34cbb34a-bd84-4d41-b263-4c19bcde5682",
   "metadata": {},
   "source": [
    "## Analyzing the Results"
   ]
  },
  {
   "cell_type": "markdown",
   "id": "7dc9ade3-71dd-4475-b88c-f58388e62a86",
   "metadata": {},
   "source": [
    "** insert analysis here when you are able to complete all methods "
   ]
  }
 ],
 "metadata": {
  "kernelspec": {
   "display_name": "Python 3 (ipykernel)",
   "language": "python",
   "name": "python3"
  },
  "language_info": {
   "codemirror_mode": {
    "name": "ipython",
    "version": 3
   },
   "file_extension": ".py",
   "mimetype": "text/x-python",
   "name": "python",
   "nbconvert_exporter": "python",
   "pygments_lexer": "ipython3",
   "version": "3.9.7"
  }
 },
 "nbformat": 4,
 "nbformat_minor": 5
}
